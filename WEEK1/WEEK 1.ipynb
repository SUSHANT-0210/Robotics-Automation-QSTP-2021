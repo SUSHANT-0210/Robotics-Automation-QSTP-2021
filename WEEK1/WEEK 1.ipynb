{
 "cells": [
  {
   "cell_type": "code",
   "execution_count": 52,
   "id": "95f4f2d7",
   "metadata": {},
   "outputs": [
    {
     "name": "stdout",
     "output_type": "stream",
     "text": [
      "Unicycle Model Assignment\n"
     ]
    },
    {
     "data": {
      "image/png": "[encoded data removed]",
      "text/plain": [
       "<Figure size 432x288 with 1 Axes>"
      ]
     },
     "metadata": {
      "needs_background": "light"
     },
     "output_type": "display_data"
    }
   ],
   "source": [
    "\"\"\"Week I Assignment\n",
    "Simulate the trajectory of a robot approximated using a unicycle model given the\n",
    "following start states, dt, velocity commands and timesteps\n",
    "State = (x, y, theta);\n",
    "Velocity = (v, w) \n",
    "1. Start=(0, 0, 0); dt=0.1; vel=(1, 0.5); timesteps: 25\n",
    "2. Start=(0, 0, 1.57); dt=0.2; vel=(0.5, 1); timesteps: 10\n",
    "3. Start(0, 0, 0.77); dt=0.05; vel=(5, 4); timestep: 50\n",
    "Upload the completed python file and the figures of the three sub parts in classroom\n",
    "\"\"\"\n",
    "import numpy as np\n",
    "import matplotlib.pyplot as plt\n",
    "\n",
    "class Unicycle:\n",
    "    def __init__(self, x: float, y: float, theta: float, dt: float):\n",
    "        self.x = x\n",
    "        self.y = y\n",
    "        self.theta = theta\n",
    "        self.dt = dt\n",
    "\n",
    "        # Store the points of the trajectory to plot\n",
    "        self.x_points = [self.x]\n",
    "        self.y_points = [self.y]\n",
    "\n",
    "    def step(self, v: float, w: float, n: int):\n",
    "        \"\"\"\n",
    "        Write the Kinematics model here\n",
    "        Expectation:\n",
    "            1. Given v, w and the current state self.x, self.y, self.theta\n",
    "                and control commands (v, w) for n timesteps, i.e. n * dt seconds,\n",
    "                return the final pose (x, y, theta) after this time.\n",
    "            2. Append all intermediate points into the self.x_points, self.y_points list\n",
    "                for plotting the trajectory.\n",
    "        Args:\n",
    "            v (float): linear velocity\n",
    "            w (float): angular velocity\n",
    "            n (int)  : timesteps\n",
    "        Return:\n",
    "            x, y, theta (float): final pose \n",
    "        \"\"\"\n",
    "        x, y, theta = self.x, self.y, self.theta \n",
    "\n",
    "        for _ in range(n):\n",
    "            x += v * self.dt * np.cos(theta)\n",
    "            y +=  v * self.dt * np.sin(theta)  \n",
    "            theta += w * self.dt\n",
    "        \n",
    "            self.x_points.append(x)\n",
    "            self.y_points.append(y)\n",
    "        \n",
    "        return x, y, theta\n",
    "    \n",
    "\n",
    "    def plot(self, v: float, w: float):\n",
    "        \"\"\"Function that plots the intermeditate trajectory of the Robot\"\"\"\n",
    "        plt.title(f\"Unicycle Model: {v}, {w}\")\n",
    "        plt.xlabel(\"X-Coordinates\")\n",
    "        plt.ylabel(\"Y-Coordinates\")\n",
    "        plt.plot(self.x_points, self.y_points, color=\"red\", alpha=0.75)\n",
    "        plt.grid()\n",
    "\n",
    "        # If you want to view the plot uncomment plt.show() and comment out plt.savefig()\n",
    "#         plt.show()\n",
    "        # If you want to save the file, uncomment plt.savefig() and comment out plt.show()\n",
    "        plt.savefig(f\"Unicycle_{v}_{w}.png\")\n",
    "\n",
    "if __name__ == \"__main__\":\n",
    "    print(\"Unicycle Model Assignment\")\n",
    "\n",
    "    # make an object of the robot and plot various trajectories\n",
    "#     1. Start=(0, 0, 0); dt=0.1; vel=(1, 0.5); timesteps: 25\n",
    "#     2. Start=(0, 0, 1.57); dt=0.2; vel=(0.5, 1); timesteps: 10\n",
    "#     3. Start(0, 0, 0.77); dt=0.05; vel=(5, 4); timestep: 50\n",
    "    uni = Unicycle(0, 0, 0, 0.1)\n",
    "    uni.step(1, 0.5, 25)\n",
    "    uni.plot(1, 0.5)"
   ]
  },
  {
   "cell_type": "code",
   "execution_count": null,
   "id": "da23b3fd",
   "metadata": {},
   "outputs": [],
   "source": []
  }
 ],
 "metadata": {
  "kernelspec": {
   "display_name": "Python 3",
   "language": "python",
   "name": "python3"
  },
  "language_info": {
   "codemirror_mode": {
    "name": "ipython",
    "version": 3
   },
   "file_extension": ".py",
   "mimetype": "text/x-python",
   "name": "python",
   "nbconvert_exporter": "python",
   "pygments_lexer": "ipython3",
   "version": "3.8.8"
  }
 },
 "nbformat": 4,
 "nbformat_minor": 5
}
